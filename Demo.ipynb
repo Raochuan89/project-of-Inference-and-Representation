{
 "cells": [
  {
   "cell_type": "code",
   "execution_count": 1,
   "metadata": {},
   "outputs": [],
   "source": [
    "from slda import lda, news\n",
    "from torch.utils.data import DataLoader"
   ]
  },
  {
   "cell_type": "code",
   "execution_count": 2,
   "metadata": {},
   "outputs": [
    {
     "name": "stdout",
     "output_type": "stream",
     "text": [
      "Downloading 1VmK6HE7ZohKoJheNkVZXvFEym1OYtt_z into ./news/news_6000.zip... Done.\n",
      "Unzipping...Done.\n",
      "Downloading Done!\n"
     ]
    }
   ],
   "source": [
    "news_data = news.NEWS()\n",
    "data_loader = DataLoader(news_data, batch_size=1, shuffle=True)"
   ]
  },
  {
   "cell_type": "code",
   "execution_count": 4,
   "metadata": {},
   "outputs": [],
   "source": [
    "model = lda.SLDA(num_topic=3, vocab_size=len(news_data.idx_to_word), outer_iter_max=10, verbose=True)"
   ]
  },
  {
   "cell_type": "code",
   "execution_count": 5,
   "metadata": {},
   "outputs": [
    {
     "name": "stdout",
     "output_type": "stream",
     "text": [
      "epoch 1 parameters average change: 23.7496370185\n",
      "epoch 2 parameters average change: 12.592211736\n",
      "epoch 3 parameters average change: 10.171291478\n",
      "epoch 4 parameters average change: 6.61270816132\n",
      "epoch 5 parameters average change: 5.48089037714\n",
      "epoch 6 parameters average change: 4.73368774252\n",
      "epoch 7 parameters average change: 4.63193578839\n",
      "epoch 8 parameters average change: 4.13612992687\n",
      "epoch 9 parameters average change: 4.13727345158\n",
      "epoch 10 parameters average change: 2.78701271765\n"
     ]
    }
   ],
   "source": [
    "model.fit(data)"
   ]
  },
  {
   "cell_type": "code",
   "execution_count": 6,
   "metadata": {},
   "outputs": [
    {
     "name": "stdout",
     "output_type": "stream",
     "text": [
      "brain 0.0221065110285\n",
      "chile 0.0327881690363\n",
      "fruit 0.0178383911\n",
      "growers 0.0168530956854\n",
      "injuries 0.0234506785926\n",
      "injury 0.040956027479\n",
      "patients 0.0531335662257\n",
      "study 0.0210652160013\n",
      "trauma 0.0166114010578\n",
      "traumatic 0.014725772317\n"
     ]
    }
   ],
   "source": [
    "model.top_words(topic_idx=0, idx_to_word=news_data.idx_to_word, num_words=10)"
   ]
  },
  {
   "cell_type": "markdown",
   "metadata": {},
   "source": [
    "That's the medical news class."
   ]
  },
  {
   "cell_type": "code",
   "execution_count": 7,
   "metadata": {},
   "outputs": [
    {
     "name": "stdout",
     "output_type": "stream",
     "text": [
      "city 0.00679730686553\n",
      "company 0.012178466319\n",
      "economy 0.00732631514989\n",
      "jan 0.00782444356618\n",
      "market 0.00762715924371\n",
      "percent 0.0136023339698\n",
      "president 0.00752206463857\n",
      "states 0.006504187791\n",
      "undated 0.00889981327968\n",
      "united 0.00711396551999\n"
     ]
    }
   ],
   "source": [
    "model.top_words(topic_idx=1, idx_to_word=news_data.idx_to_word, num_words=10)"
   ]
  },
  {
   "cell_type": "markdown",
   "metadata": {},
   "source": [
    "That's the economy news class."
   ]
  },
  {
   "cell_type": "code",
   "execution_count": 8,
   "metadata": {},
   "outputs": [
    {
     "name": "stdout",
     "output_type": "stream",
     "text": [
      "art 0.007183860607\n",
      "don 0.00491858089143\n",
      "film 0.00563244224345\n",
      "home 0.00598054439532\n",
      "just 0.00979073004842\n",
      "like 0.0164308725557\n",
      "movie 0.00492216280335\n",
      "music 0.00787316019144\n",
      "says 0.00570823153481\n",
      "way 0.00529412944168\n"
     ]
    }
   ],
   "source": [
    "model.top_words(topic_idx=2, idx_to_word=news_data.idx_to_word, num_words=10)"
   ]
  },
  {
   "cell_type": "markdown",
   "metadata": {},
   "source": [
    "That's the music news class."
   ]
  },
  {
   "cell_type": "code",
   "execution_count": null,
   "metadata": {
    "collapsed": true
   },
   "outputs": [],
   "source": []
  }
 ],
 "metadata": {
  "kernelspec": {
   "display_name": "Python 3",
   "language": "python",
   "name": "python3"
  },
  "language_info": {
   "codemirror_mode": {
    "name": "ipython",
    "version": 3
   },
   "file_extension": ".py",
   "mimetype": "text/x-python",
   "name": "python",
   "nbconvert_exporter": "python",
   "pygments_lexer": "ipython3",
   "version": "3.6.3"
  }
 },
 "nbformat": 4,
 "nbformat_minor": 2
}
